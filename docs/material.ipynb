{
 "cells": [
  {
   "cell_type": "raw",
   "metadata": {
    "raw_mimetype": "text/restructuredtext"
   },
   "source": [
    ".. _SectionMaterial:\n",
    "\n",
    "Material\n",
    "========\n",
    "\n",
    "Semi-Affine Fibers\n",
    "------------------\n",
    "\n",
    ".. figure:: images/fiber.png\n",
    "    :width: 70%\n",
    "\n",
    "    The stiffness :math:`\\omega''(\\lambda)` as a function of the strain. It is the second derivative of the energy function\n",
    "    :math:`\\omega(\\lambda)` of the material.\n",
    "\n",
    "The default material model is a semi-affine fiber material which is approximated by a mean field description. The fibers\n",
    "are modeled that they buckle under compression, showing an exponential decay of the stiffness (:math:`0 < \\lambda < 1`), have\n",
    "a linear stiffness regime during straightening (:math:`1<\\lambda<\\lambda_s`) and for larger streches shows an exponential\n",
    "stiffening (:math:`\\lambda_s<\\lambda`).\n",
    "\n",
    "Under the assumption that the material is isotropic, the action of the deformation on the material is averaged over all\n",
    "spatial directions.\n",
    "\n",
    ".. math::\n",
    "    W = \\langle\\omega(|\\mathbf{F} \\cdot \\vec{e_r}(\\Omega)|)\\rangle_\\Omega\n",
    "\n",
    "With :math:`\\mathrm{F}` being the deformation gradient, :math:`\\vec{e_r}` a unit vector in the direction :math:`\\Omega`,\n",
    ":math:`\\omega(\\lambda)` the material energy function, :math:`W` the energy density and\n",
    ":math:`\\langle \\cdot \\rangle_\\Omega` denotes an average over the solid angle.\n",
    "\n",
    "Materials\n",
    "---------\n",
    "\n",
    ".. currentmodule:: saenopy.materials\n",
    "\n",
    ".. autoclass:: Material\n",
    "   :members:\n",
    "\n",
    ".. autoclass:: SemiAffineFiberMaterial\n",
    "   :members:\n",
    "\n",
    "\n",
    "Defining custom materials\n",
    "-------------------------\n",
    "\n",
    "To define a custom material, define a new class that is a subclass of :py:class:`saenopy.materials.Material`. The class needs to define method called `stiffness` that returns for a list of given strains, a list of stiffness values (one for each strain value).\n",
    "\n",
    "This procedure is demonstrated in the following code example where a new material `QuadracticMaterial` is defined with a `stiffness` function that is linearly dependent on the strain, i.e. resulting in a quadratic force response.\n",
    "\n",
    ".. code-block:: python\n",
    "    :linenos:\n",
    "\n",
    "    from saenopy.materials import Material\n",
    "\n",
    "    class QuadracticMaterial(Material):\n",
    "        \"\"\"\n",
    "        A custom material that has a quadratic force response.\n",
    "\n",
    "        Parameters\n",
    "        ----------\n",
    "        k : float\n",
    "            The stiffness of the material.\n",
    "        \"\"\"\n",
    "        def __init__(self, k):\n",
    "            # parameters\n",
    "            self.k = k\n",
    "            self.parameters = dict(k=k)\n",
    "\n",
    "        def stiffness(self, s):\n",
    "            # the stiffness increases linearly, resulting in a quadratic force\n",
    "            stiff = np.ones_like(s) * self.k * s\n",
    "\n",
    "            return stiff\n",
    "            \n",
    "\n",
    "The newly defined material can be used with :py:meth:`~.Solver.setMaterialModel`."
   ]
  },
  {
   "cell_type": "markdown",
   "metadata": {},
   "source": [
    "## Macrorheology"
   ]
  },
  {
   "cell_type": "markdown",
   "metadata": {},
   "source": [
    "As the material model is based on microscopic parameters and not on macroscopic parameters (as e.g. the bulk stiffness), the material parameters cannot directly be measured using a rheometer. Instead the rheological experiments are \"simulated\" on the material model and the resulting curves can be used to fit the material parameters so that the the \"simulated\" rheological experiments on the material model fit the measured rheological response of the material.\n",
    "\n",
    "Here, we describe three different rheological experiments that can be simulated on the material model.\n",
    "\n",
    "- Shear Rheometer\n",
    "- Stretch Thinning\n",
    "- Extensional Rheometer\n",
    "    \n",
    "The stretch experiment is needed to reliably fit later on the buckling of the material and either the Shear Rheometer or the Extensional Rheometer experiment can be used to fit the fiber stiffness and the strain stiffening.\n",
    "\n",
    "This section first describes the functions that simulate these experiments on the material model and the next section explains how these functions can be used to fit the material parameters from experimental data."
   ]
  },
  {
   "cell_type": "code",
   "execution_count": 1,
   "metadata": {},
   "outputs": [],
   "source": [
    "%matplotlib inline"
   ]
  },
  {
   "cell_type": "markdown",
   "metadata": {},
   "source": [
    "### Shear Rheometer"
   ]
  },
  {
   "cell_type": "raw",
   "metadata": {
    "raw_mimetype": "text/restructuredtext"
   },
   "source": [
    "\n",
    ".. autofunction:: saenopy.macro.getShearRheometerStress\n"
   ]
  },
  {
   "cell_type": "code",
   "execution_count": 2,
   "metadata": {},
   "outputs": [
    {
     "name": "stdout",
     "output_type": "stream",
     "text": [
      "SemiAffineFiberMaterial(k=900, d0=0.0004, lambda_s=1.0075, ds=0.033)\n"
     ]
    },
    {
     "data": {
      "image/png": "[encoded data removed]",
      "text/plain": [
       "<matplotlib.figure.Figure at 0x244f5af48d0>"
      ]
     },
     "metadata": {
      "needs_background": "light"
     },
     "output_type": "display_data"
    }
   ],
   "source": [
    "import numpy as np\n",
    "import matplotlib.pyplot as plt\n",
    "\n",
    "from saenopy import macro\n",
    "from saenopy.materials import SemiAffineFiberMaterial\n",
    "\n",
    "material = SemiAffineFiberMaterial(900, 0.0004, 1.0075, 0.033)\n",
    "print(material)\n",
    "\n",
    "gamma = np.arange(0.005, 0.3, 0.0001)\n",
    "x, y = macro.getShearRheometerStress(gamma, material)\n",
    "plt.loglog(x, y, \"-\", lw=3, label=\"model\")\n",
    "\n",
    "plt.xlabel(\"strain\")\n",
    "plt.ylabel(\"shear stress [Pa]\")\n",
    "\n",
    "plt.show()"
   ]
  },
  {
   "cell_type": "markdown",
   "metadata": {},
   "source": [
    "### Stretcher"
   ]
  },
  {
   "cell_type": "raw",
   "metadata": {
    "raw_mimetype": "text/restructuredtext"
   },
   "source": [
    "\n",
    ".. autofunction:: saenopy.macro.getStretchThinning\n"
   ]
  },
  {
   "cell_type": "code",
   "execution_count": 3,
   "metadata": {},
   "outputs": [
    {
     "name": "stdout",
     "output_type": "stream",
     "text": [
      "SemiAffineFiberMaterial(k=900, d0=0.0004, lambda_s=1.0075, ds=0.033)\n"
     ]
    },
    {
     "data": {
      "image/png": "[encoded data removed]",
      "text/plain": [
       "<matplotlib.figure.Figure at 0x244f5af4978>"
      ]
     },
     "metadata": {
      "needs_background": "light"
     },
     "output_type": "display_data"
    }
   ],
   "source": [
    "import numpy as np\n",
    "import matplotlib.pyplot as plt\n",
    "\n",
    "from saenopy import macro\n",
    "from saenopy.materials import SemiAffineFiberMaterial\n",
    "\n",
    "material = SemiAffineFiberMaterial(900, 0.0004, 1.0075, 0.033)\n",
    "print(material)\n",
    "\n",
    "lambda_h = np.arange(1-0.05, 1+0.07, 0.01)\n",
    "lambda_v = np.arange(0, 1.1, 0.001)\n",
    "\n",
    "x, y = macro.getStretchThinning(lambda_h, lambda_v, material)\n",
    "plt.plot(x, y, lw=3, label=\"model\")\n",
    "plt.xlabel(\"horizontal stretch\")\n",
    "plt.ylabel(\"vertical contraction\")\n",
    "\n",
    "plt.ylim(0, 1.2)\n",
    "plt.xlim(0.9, 1.2)\n",
    "\n",
    "plt.show()"
   ]
  },
  {
   "cell_type": "markdown",
   "metadata": {},
   "source": [
    "### Extensional Rheometer"
   ]
  },
  {
   "cell_type": "raw",
   "metadata": {
    "raw_mimetype": "text/restructuredtext"
   },
   "source": [
    "\n",
    ".. autofunction:: saenopy.macro.getExtensionalRheometerStress\n"
   ]
  },
  {
   "cell_type": "code",
   "execution_count": 4,
   "metadata": {},
   "outputs": [
    {
     "name": "stdout",
     "output_type": "stream",
     "text": [
      "SemiAffineFiberMaterial(k=900, d0=0.0004, lambda_s=1.0075, ds=0.033)\n"
     ]
    },
    {
     "data": {
      "image/png": "[encoded data removed]",
      "text/plain": [
       "<matplotlib.figure.Figure at 0x244f9dc3390>"
      ]
     },
     "metadata": {
      "needs_background": "light"
     },
     "output_type": "display_data"
    }
   ],
   "source": [
    "import numpy as np\n",
    "import matplotlib.pyplot as plt\n",
    "\n",
    "from saenopy import macro\n",
    "from saenopy.materials import SemiAffineFiberMaterial, LinearMaterial\n",
    "\n",
    "material = SemiAffineFiberMaterial(900, 0.0004, 1.0075, 0.033)\n",
    "print(material)\n",
    "\n",
    "epsilon = np.arange(1, 1.17, 0.0001)\n",
    "x, y = macro.getExtensionalRheometerStress(epsilon, material)\n",
    "plt.plot(x, y, lw=3, label=\"model\")\n",
    "\n",
    "plt.xlabel(\"strain\")\n",
    "plt.ylabel(\"stress [Pa]\")\n",
    "\n",
    "plt.show()"
   ]
  },
  {
   "cell_type": "markdown",
   "metadata": {},
   "source": [
    "## Fitting material parameters"
   ]
  },
  {
   "cell_type": "raw",
   "metadata": {
    "raw_mimetype": "text/restructuredtext"
   },
   "source": [
    "To fit the parameters of the material model for the use withe saenopy four parameters are needed, as explained in the section\n",
    ":ref:`SectionMaterial`."
   ]
  },
  {
   "cell_type": "code",
   "execution_count": 5,
   "metadata": {},
   "outputs": [
    {
     "data": {
      "application/vnd.jupyter.widget-view+json": {
       "model_id": "c66b2edf546c4a3fb05f927645810524",
       "version_major": 2,
       "version_minor": 0
      },
      "text/html": [
       "<p>Failed to display Jupyter Widget of type <code>HBox</code>.</p>\n",
       "<p>\n",
       "  If you're reading this message in the Jupyter Notebook or JupyterLab Notebook, it may mean\n",
       "  that the widgets JavaScript is still loading. If this message persists, it\n",
       "  likely means that the widgets JavaScript library is either not installed or\n",
       "  not enabled. See the <a href=\"https://ipywidgets.readthedocs.io/en/stable/user_install.html\">Jupyter\n",
       "  Widgets Documentation</a> for setup instructions.\n",
       "</p>\n",
       "<p>\n",
       "  If you're reading this message in another frontend (for example, a static\n",
       "  rendering on GitHub or <a href=\"https://nbviewer.jupyter.org/\">NBViewer</a>),\n",
       "  it may mean that your frontend doesn't currently support widgets.\n",
       "</p>\n"
      ],
      "text/plain": [
       "HBox(children=(IntProgress(value=0, max=10000), HTML(value='')))"
      ]
     },
     "metadata": {},
     "output_type": "display_data"
    },
    {
     "name": "stdout",
     "output_type": "stream",
     "text": [
      "\n",
      "[1.12761107e+03 3.46066774e+03 1.47554110e+04 1.88843073e+00\n",
      " 1.01748228e+00]\n"
     ]
    },
    {
     "data": {
      "image/png": "[encoded data removed]",
      "text/plain": [
       "<matplotlib.figure.Figure at 0x244f9e22f28>"
      ]
     },
     "metadata": {
      "needs_background": "light"
     },
     "output_type": "display_data"
    }
   ],
   "source": [
    "from saenopy import macro\n",
    "import numpy as np\n",
    "\n",
    "# example data, stress-strain curves for collagen of three different concentrations    \n",
    "data0_6 = np.array([[4.27e-06,-2.26e-03],[1.89e-02,5.90e-01],[3.93e-02,1.08e+00],[5.97e-02,1.57e+00],[8.01e-02,2.14e+00],[1.00e-01,2.89e+00],[1.21e-01,3.83e+00],[1.41e-01,5.09e+00],[1.62e-01,6.77e+00],[1.82e-01,8.94e+00],[2.02e-01,1.17e+01],[2.23e-01,1.49e+01],[2.43e-01,1.86e+01],[2.63e-01,2.28e+01],[2.84e-01,2.71e+01]])\n",
    "data1_2 = np.array([[1.22e-05,-1.61e-01],[1.71e-02,2.57e+00],[3.81e-02,4.69e+00],[5.87e-02,6.34e+00],[7.92e-02,7.93e+00],[9.96e-02,9.56e+00],[1.20e-01,1.14e+01],[1.40e-01,1.35e+01],[1.61e-01,1.62e+01],[1.81e-01,1.97e+01],[2.02e-01,2.41e+01],[2.22e-01,2.95e+01],[2.42e-01,3.63e+01],[2.63e-01,4.43e+01],[2.83e-01,5.36e+01],[3.04e-01,6.37e+01],[3.24e-01,7.47e+01],[3.44e-01,8.61e+01],[3.65e-01,9.75e+01],[3.85e-01,1.10e+02],[4.06e-01,1.22e+02],[4.26e-01,1.33e+02]])\n",
    "data2_4 = np.array([[2.02e-05,-6.50e-02],[1.59e-02,8.46e+00],[3.76e-02,1.68e+01],[5.82e-02,2.43e+01],[7.86e-02,3.34e+01],[9.90e-02,4.54e+01],[1.19e-01,6.11e+01],[1.40e-01,8.16e+01],[1.60e-01,1.06e+02],[1.80e-01,1.34e+02],[2.01e-01,1.65e+02],[2.21e-01,1.96e+02],[2.41e-01,2.26e+02]])\n",
    "\n",
    "# hold the buckling parameter constant, as it cannot be deferimed well with shear experiments\n",
    "ds0 = 0.0004\n",
    "# minimize 3 shear rheometer experiments with different collagen concentration and, therefore, different k1 parameters\n",
    "# but keep the other paramters the same\n",
    "parameters, plot = macro.minimize([\n",
    "        [macro.getShearRheometerStress, data0_6, lambda p: (p[0], ds0, p[3], p[4])],\n",
    "        [macro.getShearRheometerStress, data1_2, lambda p: (p[1], ds0, p[3], p[4])],\n",
    "        [macro.getShearRheometerStress, data2_4, lambda p: (p[2], ds0, p[3], p[4])],\n",
    "    ],\n",
    "    [9000, 40000, 14000, 1.075, 0.33],\n",
    ")\n",
    "\n",
    "# print the resulting parameters\n",
    "print(parameters)\n",
    "# and plot the results\n",
    "plot()"
   ]
  },
  {
   "cell_type": "markdown",
   "metadata": {},
   "source": [
    "To fit all parameters, experiments of different types should be combined, e.g. a shear rheological experiment and a stretching experiment."
   ]
  },
  {
   "cell_type": "code",
   "execution_count": 6,
   "metadata": {},
   "outputs": [
    {
     "data": {
      "application/vnd.jupyter.widget-view+json": {
       "model_id": "e8f139a3bf6543b2b985dd953f33c2b0",
       "version_major": 2,
       "version_minor": 0
      },
      "text/html": [
       "<p>Failed to display Jupyter Widget of type <code>HBox</code>.</p>\n",
       "<p>\n",
       "  If you're reading this message in the Jupyter Notebook or JupyterLab Notebook, it may mean\n",
       "  that the widgets JavaScript is still loading. If this message persists, it\n",
       "  likely means that the widgets JavaScript library is either not installed or\n",
       "  not enabled. See the <a href=\"https://ipywidgets.readthedocs.io/en/stable/user_install.html\">Jupyter\n",
       "  Widgets Documentation</a> for setup instructions.\n",
       "</p>\n",
       "<p>\n",
       "  If you're reading this message in another frontend (for example, a static\n",
       "  rendering on GitHub or <a href=\"https://nbviewer.jupyter.org/\">NBViewer</a>),\n",
       "  it may mean that your frontend doesn't currently support widgets.\n",
       "</p>\n"
      ],
      "text/plain": [
       "HBox(children=(IntProgress(value=0, max=10000), HTML(value='')))"
      ]
     },
     "metadata": {},
     "output_type": "display_data"
    },
    {
     "name": "stdout",
     "output_type": "stream",
     "text": [
      "\n",
      "[9.38578108e+02 4.31717212e-04 8.69679652e-01 3.79087025e-01]\n"
     ]
    },
    {
     "data": {
      "image/png": "[encoded data removed]",
      "text/plain": [
       "<matplotlib.figure.Figure at 0x244fa24ecc0>"
      ]
     },
     "metadata": {
      "needs_background": "light"
     },
     "output_type": "display_data"
    }
   ],
   "source": [
    "from saenopy import macro\n",
    "import numpy as np\n",
    "\n",
    "# example data, stress-strain curves and a stretch experiment\n",
    "shear = np.array([[7.50e-03,2.78e-01],[1.25e-02,4.35e-01],[1.75e-02,6.44e-01],[2.25e-02,7.86e-01],[2.75e-02,9.98e-01],[3.25e-02,1.13e+00],[3.75e-02,1.52e+00],[4.25e-02,1.57e+00],[4.75e-02,1.89e+00],[5.25e-02,2.10e+00],[5.75e-02,2.46e+00],[6.25e-02,2.67e+00],[6.75e-02,3.15e+00],[7.25e-02,3.13e+00],[7.75e-02,3.83e+00],[8.25e-02,4.32e+00],[8.75e-02,4.35e+00],[9.25e-02,4.78e+00],[9.75e-02,5.45e+00],[1.02e-01,5.87e+00],[1.07e-01,6.16e+00],[1.13e-01,6.89e+00],[1.17e-01,7.89e+00],[1.22e-01,8.28e+00],[1.28e-01,9.13e+00],[1.33e-01,1.06e+01],[1.38e-01,1.10e+01],[1.42e-01,1.27e+01],[1.47e-01,1.39e+01],[1.52e-01,1.53e+01],[1.58e-01,1.62e+01],[1.63e-01,1.78e+01],[1.68e-01,1.89e+01],[1.72e-01,2.03e+01],[1.77e-01,2.13e+01],[1.82e-01,2.23e+01],[1.88e-01,2.38e+01],[1.93e-01,2.56e+01],[1.98e-01,2.78e+01],[2.03e-01,3.02e+01],[2.07e-01,3.28e+01],[2.12e-01,3.55e+01],[2.17e-01,3.83e+01],[2.23e-01,4.13e+01],[2.28e-01,4.48e+01],[2.33e-01,4.86e+01],[2.37e-01,5.27e+01],[2.42e-01,5.64e+01],[2.47e-01,6.08e+01],[2.53e-01,6.48e+01],[2.58e-01,6.93e+01],[2.63e-01,7.44e+01],[2.68e-01,7.89e+01],[2.73e-01,8.40e+01],[2.78e-01,8.91e+01],[2.82e-01,9.41e+01],[2.87e-01,1.01e+02],[2.92e-01,1.07e+02],[2.97e-01,1.12e+02],[3.02e-01,1.19e+02],[3.07e-01,1.25e+02],[3.12e-01,1.32e+02],[3.18e-01,1.39e+02],[3.23e-01,1.45e+02],[3.28e-01,1.53e+02],[3.33e-01,1.60e+02],[3.38e-01,1.67e+02],[3.43e-01,1.76e+02],[3.47e-01,1.83e+02],[3.52e-01,1.90e+02],[3.57e-01,1.99e+02],[3.62e-01,2.06e+02],[3.67e-01,2.15e+02],[3.72e-01,2.23e+02],[3.78e-01,2.31e+02],[3.83e-01,2.40e+02],[3.88e-01,2.48e+02],[3.93e-01,2.56e+02],[3.98e-01,2.56e+02],[4.03e-01,2.73e+02],[4.07e-01,2.77e+02],[4.12e-01,2.86e+02],[4.17e-01,2.97e+02],[4.22e-01,3.08e+02],[4.27e-01,3.15e+02],[4.32e-01,3.25e+02],[4.38e-01,3.33e+02],[4.43e-01,3.39e+02],[4.48e-01,3.51e+02],[4.53e-01,3.59e+02],[4.58e-01,3.69e+02],[4.63e-01,3.76e+02],[4.68e-01,3.83e+02],[4.72e-01,3.93e+02],[4.77e-01,3.97e+02],[4.82e-01,4.04e+02],[4.87e-01,4.13e+02],[4.92e-01,4.18e+02],[4.97e-01,4.31e+02],[5.02e-01,4.38e+02],[5.07e-01,4.25e+02],[5.12e-01,4.48e+02],[5.17e-01,4.49e+02],[5.22e-01,4.56e+02],[5.27e-01,4.66e+02],[5.32e-01,4.70e+02],[5.37e-01,4.76e+02],[5.42e-01,4.82e+02],[5.47e-01,4.89e+02],[5.52e-01,4.99e+02],[5.57e-01,5.01e+02],[5.62e-01,5.06e+02],[5.68e-01,5.14e+02],[5.73e-01,5.15e+02],[5.78e-01,5.21e+02],[5.83e-01,5.28e+02],[5.88e-01,5.30e+02],[5.93e-01,5.38e+02],[5.98e-01,5.40e+02],[6.03e-01,5.41e+02],[6.08e-01,5.38e+02],[6.13e-01,5.39e+02],[6.18e-01,5.50e+02],[6.23e-01,5.56e+02],[6.27e-01,5.59e+02],[6.32e-01,5.68e+02],[6.37e-01,5.69e+02],[6.42e-01,5.70e+02],[6.47e-01,5.79e+02],[6.52e-01,5.78e+02],[6.57e-01,5.80e+02],[6.62e-01,5.83e+02],[6.67e-01,5.83e+02],[6.72e-01,5.89e+02],[6.77e-01,5.86e+02],[6.82e-01,5.88e+02],[6.88e-01,5.91e+02],[6.93e-01,5.86e+02],[6.98e-01,5.91e+02],[7.03e-01,5.91e+02],[7.08e-01,5.87e+02],[7.13e-01,5.89e+02],[7.18e-01,5.88e+02],[7.23e-01,5.89e+02],[7.28e-01,5.89e+02],[7.33e-01,5.81e+02],[7.38e-01,5.85e+02],[7.43e-01,5.86e+02],[7.48e-01,5.78e+02],[7.52e-01,5.78e+02],[7.57e-01,5.79e+02],[7.62e-01,5.76e+02],[7.67e-01,5.74e+02],[7.72e-01,5.70e+02],[7.77e-01,5.73e+02],[7.82e-01,5.70e+02],[7.87e-01,5.66e+02],[7.92e-01,5.69e+02],[7.97e-01,5.59e+02],[8.02e-01,5.50e+02],[8.07e-01,5.52e+02],[8.12e-01,5.52e+02],[8.18e-01,5.59e+02],[8.23e-01,5.58e+02],[8.28e-01,5.57e+02],[8.33e-01,5.59e+02],[8.38e-01,5.53e+02],[8.43e-01,5.55e+02],[8.48e-01,5.56e+02],[8.53e-01,5.49e+02],[8.58e-01,5.50e+02],[8.63e-01,5.47e+02],[8.68e-01,5.22e+02],[8.73e-01,5.44e+02],[8.77e-01,5.36e+02],[8.82e-01,5.38e+02],[8.87e-01,5.33e+02],[8.92e-01,5.28e+02],[8.97e-01,5.30e+02],[9.02e-01,5.23e+02],[9.07e-01,5.22e+02],[9.12e-01,5.18e+02],[9.17e-01,5.12e+02],[9.22e-01,5.11e+02],[9.27e-01,5.05e+02],[9.32e-01,5.03e+02],[9.38e-01,4.99e+02],[9.43e-01,4.88e+02],[9.48e-01,4.86e+02],[9.53e-01,4.82e+02],[9.58e-01,4.73e+02],[9.63e-01,4.70e+02],[9.68e-01,4.61e+02],[9.73e-01,4.56e+02],[9.78e-01,4.51e+02],[9.83e-01,4.41e+02],[9.88e-01,4.36e+02],[9.93e-01,4.22e+02],[9.98e-01,4.09e+02],[1.00e+00,4.07e+02]])[:50]\n",
    "stretch = np.array([[9.33e-01,1.02e+00],[9.40e-01,1.01e+00],[9.47e-01,1.02e+00],[9.53e-01,1.02e+00],[9.60e-01,1.02e+00],[9.67e-01,1.01e+00],[9.73e-01,1.01e+00],[9.80e-01,1.01e+00],[9.87e-01,1.01e+00],[9.93e-01,1.00e+00],[1.00e+00,1.00e+00],[1.01e+00,9.89e-01],[1.01e+00,9.70e-01],[1.02e+00,9.41e-01],[1.03e+00,9.00e-01],[1.03e+00,8.46e-01],[1.04e+00,7.76e-01],[1.05e+00,6.89e-01],[1.05e+00,6.02e-01],[1.06e+00,5.17e-01],[1.07e+00,4.39e-01],[1.07e+00,3.74e-01],[1.08e+00,3.17e-01],[1.09e+00,2.72e-01],[1.09e+00,2.30e-01],[1.10e+00,2.02e-01]])\n",
    "\n",
    "# fit all 4 parameters simultaneously to two experiments\n",
    "parameters, plot = macro.minimize([\n",
    "        [macro.getShearRheometerStress, shear, lambda p: (p[0], p[1], p[2], p[3])],\n",
    "        [macro.getStretchThinning, stretch, lambda p: (p[0], p[1], p[2], p[3])],\n",
    "    ],\n",
    "    [900, 0.0004, 1.075, 0.33],\n",
    ")\n",
    "\n",
    "# print the resulting parameters\n",
    "print(parameters)\n",
    "# and plot the results\n",
    "plot()"
   ]
  }
 ],
 "metadata": {
  "celltoolbar": "Raw Cell Format",
  "kernelspec": {
   "display_name": "Python 3",
   "language": "python",
   "name": "python3"
  },
  "language_info": {
   "codemirror_mode": {
    "name": "ipython",
    "version": 3
   },
   "file_extension": ".py",
   "mimetype": "text/x-python",
   "name": "python",
   "nbconvert_exporter": "python",
   "pygments_lexer": "ipython3",
   "version": "3.6.4"
  }
 },
 "nbformat": 4,
 "nbformat_minor": 2
}
