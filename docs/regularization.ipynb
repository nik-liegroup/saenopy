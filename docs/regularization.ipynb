{
 "cells": [
  {
   "cell_type": "markdown",
   "metadata": {},
   "source": [
    "# Regularization Mode"
   ]
  },
  {
   "cell_type": "raw",
   "metadata": {
    "raw_mimetype": "text/restructuredtext"
   },
   "source": [
    "This example will explain the basic usage of a regularisation with saenopy.\n",
    "\n",
    "Regularization mode solves the unconstrained problem of measured displacements, which should be fitted by deforming the mesh and thereby generating forces. To avoid spurious forces all over the mesh, a regularization term is used to suppress \"noise\" forces.\n",
    "\n",
    "So the input is:\n",
    "    - the material parameters\n",
    "    - the mesh (nodes and concecitivity)\n",
    "    - the measured displacements :math:`U_\\mathrm{measured}` for all nodes\n",
    "    \n",
    "The output is:\n",
    "    - the forces :math:`F(U)` for all nodes\n",
    "    - the displacements :math:`U` for all nodes (should be similar to the measured displacements)\n",
    "   \n",
    "This mode is used if a displacement field is measured and you want to find out the \"most probable\" forces that generated it. Here, \"most probable\" means, which fulfill best the regularisation constraint, see below.\n",
    "\n",
    "First the basical theoretical background is explained, followed by the code to use it."
   ]
  },
  {
   "cell_type": "markdown",
   "metadata": {},
   "source": [
    "## Theory"
   ]
  },
  {
   "cell_type": "raw",
   "metadata": {
    "raw_mimetype": "text/restructuredtext"
   },
   "source": [
    "The inverse problem, to fit forces for measured displacements is under determined. Therefore, a regularization scheme is needed, to circumvent this problem. The target function :math:`L(U)` is extended with a regularisation term. We use here the Thikonov regularization, :math:`|F(U)|^2_A`, the weighted sum over all forces (other regularization schemes can also be used).\n",
    "\n",
    ".. math::\n",
    "    L(U) = | U - U_\\mathrm{measured}|^2 + |F(U)|^2_A\n",
    "    \n",
    "The subscript :math:`A` denotes here a weighted sum over the forces. If :math:`A` would be a constant forces at every point of the volumne would be penalized the same. But we normally expect strong forces at a few nodes, caused by the cell, and small forces at other nodes, caued by noise.\n",
    "\n",
    "To not smooth the strongest forces, a lower weight is assigned to nodes which obtained a high force in the iteration process (Huber, 2004).\n",
    "\n",
    ".. math::\n",
    "    A_{ii}(F_i) = \\begin{cases}\n",
    "      \\alpha, & \\text{if}\\ |F_i| < 1.345 \\cdot \\mathrm{median}(|f|) \\\\\n",
    "      \\alpha \\frac{1.345 \\cdot \\mathrm{median}(|F|)}{|F_i|}, & \\text{otherwise}\n",
    "    \\end{cases} \n",
    "\n",
    "The target function :math:`L(U)` is minimized if :math:`U` fulfills the following condition:\n",
    "\n",
    ".. math::\n",
    "    \\underbrace{(\\mathbf{I} + \\mathbf{K}\\mathbf{A}\\mathbf{K})}_A \\cdot \\underbrace{\\Delta u}_x = \\underbrace{U_\\mathrm{measured} + \\mathbf{K}\\mathbf{A}f_u}_b\n",
    "    \n",
    "This linear equation (of the form :math:`A_{ij}\\cdot x_j = b_i`) is solved using the conjugate gradient method to obtain a value for :math:`\\Delta u_i`. A tiny fraction (e.g. `stepper` = 0.066) of this is applied to the displacement :math:`U_i`: :math:`U^\\prime_i = U_i + \\mathrm{stepper} \\cdot \\Delta u_i`. With the new displacement :math:`U^\\prime`, stiffness matrix :math:`K_{ij}(U^\\prime)`, the nodal forces :math:`F_i(U^\\prime)` and the total energy :math:`E(U^\\prime)` are updated.\n",
    "    \n",
    "From these nodal forces the weight matrix :math:`A_{ii}(F_i(U^\\prime))` is updated. And the linear equation is again solved for the new stiffness matrix :math:`K_{ij}(U^\\prime)` and weight matrix :math:`A_{ii}(F_i(U^\\prime))`.\n",
    "\n",
    "This procedure is iterated until the total energy :math:`E` of the system converges. The convergence criterion is, the standard deviation of :math:`E` divided by the mean of :math:`E` for the last 6 iterations is lower than the threshold `rel_conv_crit`:\n",
    "\n",
    ".. math::\n",
    "    \\frac{\\mathrm{std}(\\{E^{t-6}, E^{t-5}, ..., E^{t-1}, E^t\\})}{\\mathrm{mean}(\\{E^{t-6}, E^{t-5}, ..., E^{t-1}, E^t\\})} \\leq \\mathrm{rel\\_conv\\_crit}\n",
    "\n",
    "If no convergence is reached, the iterations is stopped after a maximum number of iterations (`i_max`)."
   ]
  },
  {
   "cell_type": "markdown",
   "metadata": {},
   "source": [
    "## Example"
   ]
  },
  {
   "cell_type": "raw",
   "metadata": {
    "raw_mimetype": "text/restructuredtext"
   },
   "source": [
    "The following code example (the code of all boxed joined in a single file) can be downloaded at `relaxation.py <https://raw.githubusercontent.com/rgerum/saenopy/master/docs/regularization.py>`_."
   ]
  },
  {
   "cell_type": "raw",
   "metadata": {
    "raw_mimetype": "text/restructuredtext"
   },
   "source": [
    "First, import the Solver class."
   ]
  },
  {
   "cell_type": "code",
   "execution_count": 1,
   "metadata": {},
   "outputs": [],
   "source": [
    "from saenopy import Solver\n",
    "    \n",
    "# initialize the object\n",
    "M = Solver()"
   ]
  },
  {
   "cell_type": "markdown",
   "metadata": {
    "raw_mimetype": "text/restructuredtext"
   },
   "source": [
    "Set the material model:"
   ]
  },
  {
   "cell_type": "code",
   "execution_count": 2,
   "metadata": {},
   "outputs": [],
   "source": [
    "from saenopy.materials import SemiAffineFiberMaterial\n",
    "\n",
    "# provide a material model\n",
    "material = SemiAffineFiberMaterial(1645, 0.0008, 0.0075, 0.033)\n",
    "M.setMaterialModel(material)"
   ]
  },
  {
   "cell_type": "markdown",
   "metadata": {
    "raw_mimetype": "text/restructuredtext"
   },
   "source": [
    "Load the mesh from files."
   ]
  },
  {
   "cell_type": "code",
   "execution_count": 3,
   "metadata": {},
   "outputs": [],
   "source": [
    "import numpy as np\n",
    "\n",
    "# define the coordinates of the nodes of the mesh\n",
    "# the array has to have the shape N_v x 3\n",
    "R = np.array([[0., 0., 0.],  # 0\n",
    "              [0., 1., 0.],  # 1\n",
    "              [1., 1., 0.],  # 2\n",
    "              [1., 0., 0.],  # 3\n",
    "              [0., 0., 1.],  # 4\n",
    "              [1., 0., 1.],  # 5\n",
    "              [1., 1., 1.],  # 6\n",
    "              [0., 1., 1.]]) # 7\n",
    "\n",
    "# define the tetrahedra of the mesh\n",
    "# the array has to have the shape N_t x 4\n",
    "# every entry is an index referencing a verces in R (indices start with 0)\n",
    "T = np.array([[0, 1, 7, 2],\n",
    "              [0, 2, 5, 3],\n",
    "              [0, 4, 5, 7],\n",
    "              [2, 5, 6, 7],\n",
    "              [0, 7, 5, 2]])"
   ]
  },
  {
   "cell_type": "markdown",
   "metadata": {
    "raw_mimetype": "text/markdown"
   },
   "source": [
    "And hand the data over to the FiniteBodyForces object."
   ]
  },
  {
   "cell_type": "code",
   "execution_count": 4,
   "metadata": {},
   "outputs": [],
   "source": [
    "# provide the node data\n",
    "M.setNodes(R)\n",
    "# and the tetrahedron data\n",
    "M.setTetrahedra(T)"
   ]
  },
  {
   "cell_type": "markdown",
   "metadata": {},
   "source": [
    "Now we have to specify which displacements to fit."
   ]
  },
  {
   "cell_type": "code",
   "execution_count": 5,
   "metadata": {},
   "outputs": [],
   "source": [
    "# the displacements of the nodes which shall be fitted\n",
    "# during the solving\n",
    "U = np.array([[0   , 0, 0],  # 0\n",
    "              [0   , 0, 0],  # 1\n",
    "              [0.01, 0, 0],  # 2\n",
    "              [0.01, 0, 0],  # 3\n",
    "              [0   , 0, 0],  # 4\n",
    "              [0.01, 0, 0],  # 5\n",
    "              [0.01, 0, 0],  # 6\n",
    "              [0   , 0, 0]]) # 7\n",
    "\n",
    "# hand the displacements over to the class instance\n",
    "M.setTargetDisplacements(U)"
   ]
  },
  {
   "cell_type": "markdown",
   "metadata": {
    "raw_mimetype": "text/restructuredtext"
   },
   "source": [
    "Now we can start the regularisation process."
   ]
  },
  {
   "cell_type": "code",
   "execution_count": 6,
   "metadata": {},
   "outputs": [
    {
     "name": "stdout",
     "output_type": "stream",
     "text": [
      "going to update glo f and K\n",
      "updating forces and stiffness matrix finished 3.72s\n",
      "|u-uf|^2 = 0.0004 \t\tperbead= 0.005\n",
      "|w*f|^2  = 4.146380843321553e-28 \t\t|u|^2 = 0.0\n",
      "L = |u-uf|^2 + lambda*|w*f|^2 =  0.0004\n",
      "check before relax !\n",
      "total weight:  0.1366493918715871 / 8\n",
      "updating forces and stiffness matrix finished 0.00s\n",
      "Round 1  |du|= 0.0005213814018435404\n",
      "|u-uf|^2 = 0.0003531271885103128 \t\tperbead= 0.004890180659032298\n",
      "|w*f|^2  = 0.0011037073817204528 \t\t|u|^2 = 2.1747085295066833e-06\n",
      "L = |u-uf|^2 + lambda*|w*f|^2 =  0.0003542308958920332\n",
      "total weight:  0.0 / 8\n",
      "updating forces and stiffness matrix finished 0.00s\n",
      "Round 2  |du|= 0.0004680788598684218\n",
      "|u-uf|^2 = 0.0003151902582904738 \t\tperbead= 0.004798534891071429\n",
      "|w*f|^2  = 0.0036773637113855376 \t\t|u|^2 = 7.831754829752018e-06\n",
      "L = |u-uf|^2 + lambda*|w*f|^2 =  0.00031886762200185933\n",
      "total weight:  0.0 / 8\n",
      "updating forces and stiffness matrix finished 0.00s\n",
      "Round 3  |du|= 0.00042044002573673697\n",
      "|u-uf|^2 = 0.00028440968709130996 \t\tperbead= 0.00472121599114877\n",
      "|w*f|^2  = 0.006908834270366193 \t\t|u|^2 = 1.5900441399356946e-05\n",
      "L = |u-uf|^2 + lambda*|w*f|^2 =  0.00029131852136167615\n",
      "total weight:  0.0 / 8\n",
      "updating forces and stiffness matrix finished 0.00s\n",
      "Round 4  |du|= 0.0003777509038413336\n",
      "|u-uf|^2 = 0.0002594214036544159 \t\tperbead= 0.004655913094152005\n",
      "|w*f|^2  = 0.010350296545799125 \t\t|u|^2 = 2.556011250017124e-05\n",
      "L = |u-uf|^2 + lambda*|w*f|^2 =  0.000269771700200215\n",
      "total weight:  0.0 / 8\n",
      "updating forces and stiffness matrix finished 0.00s\n",
      "Round 5  |du|= 0.0003394727770940057\n",
      "|u-uf|^2 = 0.00023912426106498125 \t\tperbead= 0.004600701004490138\n",
      "|w*f|^2  = 0.013732450960528761 \t\t|u|^2 = 3.618625883372638e-05\n",
      "L = |u-uf|^2 + lambda*|w*f|^2 =  0.00025285671202551\n",
      "total weight:  0.0 / 8\n",
      "updating forces and stiffness matrix finished 0.00s\n",
      "Round 6  |du|= 0.00030513178793470575\n",
      "|u-uf|^2 = 0.0002226286145794821 \t\tperbead= 0.004553973338340969\n",
      "|w*f|^2  = 0.016908271539525583 \t\t|u|^2 = 4.730803499088362e-05\n",
      "L = |u-uf|^2 + lambda*|w*f|^2 =  0.0002395368861190077\n",
      "total weight:  0.0 / 8\n",
      "updating forces and stiffness matrix finished 0.00s\n",
      "Round 7  |du|= 0.00027430794894927674\n",
      "|u-uf|^2 = 0.0002092152054733013 \t\tperbead= 0.004514387933581202\n",
      "|w*f|^2  = 0.019806682507668486 \t\t|u|^2 = 5.857467986385118e-05\n",
      "L = |u-uf|^2 + lambda*|w*f|^2 =  0.0002290218879809698\n",
      "total weight:  0.0 / 8\n",
      "updating forces and stiffness matrix finished 0.00s\n",
      "Round 8  |du|= 0.0002466299434677695\n",
      "|u-uf|^2 = 0.00019830213327707782 \t\tperbead= 0.004480821676971196\n",
      "|w*f|^2  = 0.02240263393911117 \t\t|u|^2 = 6.972906415128767e-05\n",
      "L = |u-uf|^2 + lambda*|w*f|^2 =  0.000220704767216189\n",
      "total weight:  0.0 / 8\n",
      "updating forces and stiffness matrix finished 0.00s\n",
      "Round 9  |du|= 0.00022176995965925202\n",
      "|u-uf|^2 = 0.00018941833934687244 \t\tperbead= 0.004452333492273827\n",
      "|w*f|^2  = 0.024697879592932237 \t\t|u|^2 = 8.058688093012442e-05\n",
      "L = |u-uf|^2 + lambda*|w*f|^2 =  0.0002141162189398047\n",
      "total weight:  0.0 / 8\n",
      "updating forces and stiffness matrix finished 0.00s\n",
      "Round 10  |du|= 0.0001994338563287316\n",
      "|u-uf|^2 = 0.00018218221656230197 \t\tperbead= 0.004428132812806282\n",
      "|w*f|^2  = 0.02670930006950354 \t\t|u|^2 = 9.102003811642829e-05\n",
      "L = |u-uf|^2 + lambda*|w*f|^2 =  0.0002088915166318055\n",
      "total weight:  0.0 / 8\n",
      "updating forces and stiffness matrix finished 0.00s\n",
      "Round 11  |du|= 0.00017936145929138566\n",
      "|u-uf|^2 = 0.00017628455753430415 \t\tperbead= 0.004407555374631784\n",
      "|w*f|^2  = 0.028461028927063783 \t\t|u|^2 = 0.00010094374355340368\n",
      "L = |u-uf|^2 + lambda*|w*f|^2 =  0.00020474558646136793\n",
      "total weight:  0.0 / 8\n",
      "updating forces and stiffness matrix finished 0.00s\n",
      "Round 12  |du|= 0.00016132056823541928\n",
      "|u-uf|^2 = 0.00017147471367688941 \t\tperbead= 0.004390042350842046\n",
      "|w*f|^2  = 0.029979929175620153 \t\t|u|^2 = 0.00011030626272449061\n",
      "L = |u-uf|^2 + lambda*|w*f|^2 =  0.00020145464285250956\n",
      "total weight:  0.0 / 8\n",
      "updating forces and stiffness matrix finished 0.00s\n",
      "Round 13  |du|= 0.0001451029921292201\n",
      "|u-uf|^2 = 0.00016754938994130935 \t\tperbead= 0.004375122887525075\n",
      "|w*f|^2  = 0.03129303319032495 \t\t|u|^2 = 0.00011908082035957151\n",
      "L = |u-uf|^2 + lambda*|w*f|^2 =  0.0001988424231316343\n",
      "total weight:  0.0 / 8\n",
      "updating forces and stiffness matrix finished 0.00s\n",
      "Round 14  |du|= 0.00013052246284395928\n",
      "|u-uf|^2 = 0.00016434363033876833 \t\tperbead= 0.00436239993131818\n",
      "|w*f|^2  = 0.03242604087100169 \t\t|u|^2 = 0.00012725927378106348\n",
      "L = |u-uf|^2 + lambda*|w*f|^2 =  0.00019676967120977001\n",
      "total weight:  0.0 / 8\n",
      "updating forces and stiffness matrix finished 0.00s\n",
      "Round 15  |du|= 0.00011741221240566485\n",
      "|u-uf|^2 = 0.00016172353341552923 \t\tperbead= 0.004351538425804716\n",
      "|w*f|^2  = 0.033402549796269575 \t\t|u|^2 = 0.00013484716797863594\n",
      "L = |u-uf|^2 + lambda*|w*f|^2 =  0.0001951260832117988\n",
      "total weight:  0.0 / 8\n",
      "updating forces and stiffness matrix finished 0.00s\n",
      "Round 16  |du|= 0.00010562281068504169\n",
      "|u-uf|^2 = 0.00015958036160961827 \t\tperbead= 0.004342255460667505\n",
      "|w*f|^2  = 0.03424374553537882 \t\t|u|^2 = 0.00014185988380240364\n",
      "L = |u-uf|^2 + lambda*|w*f|^2 =  0.00019382410714499708\n",
      "total weight:  0.0 / 8\n",
      "updating forces and stiffness matrix finished 0.00s\n",
      "Round 17  |du|= 9.502029720382331e-05\n",
      "|u-uf|^2 = 0.00015782578028921817 \t\tperbead= 0.004334312077887849\n",
      "|w*f|^2  = 0.03496834694547654 \t\t|u|^2 = 0.00014831965369208413\n",
      "L = |u-uf|^2 + lambda*|w*f|^2 =  0.00019279412723469472\n"
     ]
    },
    {
     "data": {
      "text/plain": [
       "[(0.0004, 0.0004, 4.146380843321553e-28),\n",
       " (0.0003542308958920332, 0.0003531271885103128, 0.0011037073817204528),\n",
       " (0.00031886762200185933, 0.0003151902582904738, 0.0036773637113855376),\n",
       " (0.00029131852136167615, 0.00028440968709130996, 0.006908834270366193),\n",
       " (0.000269771700200215, 0.0002594214036544159, 0.010350296545799125),\n",
       " (0.00025285671202551, 0.00023912426106498125, 0.013732450960528761),\n",
       " (0.0002395368861190077, 0.0002226286145794821, 0.016908271539525583),\n",
       " (0.0002290218879809698, 0.0002092152054733013, 0.019806682507668486),\n",
       " (0.000220704767216189, 0.00019830213327707782, 0.02240263393911117),\n",
       " (0.0002141162189398047, 0.00018941833934687244, 0.024697879592932237),\n",
       " (0.0002088915166318055, 0.00018218221656230197, 0.02670930006950354),\n",
       " (0.00020474558646136793, 0.00017628455753430415, 0.028461028927063783),\n",
       " (0.00020145464285250956, 0.00017147471367688941, 0.029979929175620153),\n",
       " (0.0001988424231316343, 0.00016754938994130935, 0.03129303319032495),\n",
       " (0.00019676967120977001, 0.00016434363033876833, 0.03242604087100169),\n",
       " (0.0001951260832117988, 0.00016172353341552923, 0.033402549796269575),\n",
       " (0.00019382410714499708, 0.00015958036160961827, 0.03424374553537882),\n",
       " (0.00019279412723469472, 0.00015782578028921817, 0.03496834694547654)]"
      ]
     },
     "execution_count": 6,
     "metadata": {},
     "output_type": "execute_result"
    }
   ],
   "source": [
    "# relax the mesh and move the \"varible\" nodes\n",
    "M.regularize(stepper=0.1, alpha=0.001)"
   ]
  },
  {
   "cell_type": "markdown",
   "metadata": {},
   "source": [
    "Now we can optionally calculate some properties of the cell, e.g. its contractility and polarisation."
   ]
  },
  {
   "cell_type": "code",
   "execution_count": 7,
   "metadata": {},
   "outputs": [
    {
     "name": "stderr",
     "output_type": "stream",
     "text": [
      "d:\\repositories\\saeno_py\\saenopy\\FiniteBodyForces.py:774: RuntimeWarning: invalid value encountered in true_divide\n",
      "  contractility = np.sum(np.einsum(\"ki,ki->k\", RR, f) / np.linalg.norm(RR, axis=1))\n",
      "d:\\repositories\\saeno_py\\saenopy\\FiniteBodyForces.py:780: RuntimeWarning: invalid value encountered in true_divide\n",
      "  eR = RR / np.linalg.norm(RR, axis=1)[:, None]\n",
      "d:\\repositories\\saeno_py\\saenopy\\FiniteBodyForces.py:797: RuntimeWarning: invalid value encountered in true_divide\n",
      "  vmid = vmid / np.linalg.norm(vmid)\n"
     ]
    }
   ],
   "source": [
    "results = M.computeForceMoments(rmax=100e-6)"
   ]
  },
  {
   "cell_type": "raw",
   "metadata": {
    "raw_mimetype": "text/restructuredtext"
   },
   "source": [
    "Finally, we can save the results of the mesh."
   ]
  },
  {
   "cell_type": "code",
   "execution_count": 8,
   "metadata": {},
   "outputs": [
    {
     "name": "stdout",
     "output_type": "stream",
     "text": [
      "F.dat stored.\n",
      "R.dat stored.\n",
      "U.dat stored.\n",
      "RR.dat stored.\n",
      "EV.dat stored.\n"
     ]
    }
   ],
   "source": [
    "# store the forces of the nodes\n",
    "M.storeF(\"F.dat\")\n",
    "# store the positions and the displacements\n",
    "M.storeRAndU(\"R.dat\", \"U.dat\")\n",
    "# store the center of each tetrahedron and a combined list with energies and volumina of the tetrahedrons\n",
    "M.storeEandV(\"RR.dat\", \"EV.dat\")"
   ]
  },
  {
   "cell_type": "code",
   "execution_count": 10,
   "metadata": {
    "pycharm": {
     "name": "#%%\n"
    }
   },
   "outputs": [
    {
     "data": {
      "text/html": [
       "<h1></h1><iframe srcdoc='\n",
       "    <!--<div id=\"info\"><a href=\"http://threejs.org\" target=\"_blank\" rel=\"noopener\">three.js</a> - dashed lines example</div>-->\n",
       "    <div id=\"container\"></div>\n",
       "    \n",
       "    <script src=\"https://threejs.org/build/three.js\"></script>\n",
       "    \n",
       "    <script src=\"https://threejs.org/examples/js/WebGL.js\"></script>\n",
       "    <script src=\"https://threejs.org/examples/js/libs/stats.min.js\"></script>\n",
       "    <script src=\"https://threejs.org/examples/js/libs/dat.gui.min.js\"></script>\n",
       "    \n",
       "    <script src=\"https://threejs.org/examples/js/controls/OrbitControls.js\"></script>\n",
       "    \n",
       "    <style>\n",
       "    \n",
       "    .dg li {\n",
       "        background: #f7f7f7 !important;\n",
       "    }\n",
       "    .dg {\n",
       "       color: #111;\n",
       "       text-shadow: none;\n",
       "    }\n",
       "    .dg.main .close-button {\n",
       "        background: none;\n",
       "    }\n",
       "    .dg.main .close-button:hover {\n",
       "       background: none;\n",
       "    }\n",
       "    .dg .cr.boolean {\n",
       "        border-left: 1px solid #cfcfcf;\n",
       "    }\n",
       "    .dg .cr.number {\n",
       "        border-left: 1px solid #cfcfcf;\n",
       "    }\n",
       "    .dg .c input[type=text] {\n",
       "        background: #fffefe00;\n",
       "        outline: none;\n",
       "        color: #111 !important;\n",
       "    }\n",
       "    .dg .c input[type=text]:hover {\n",
       "        background: #fffefe00;\n",
       "        outline: none;\n",
       "        color: #111 !important;\n",
       "    }\n",
       "    .dg .c .slider {\n",
       "        background: #d6d6d6;\n",
       "        cursor: ew-resize;\n",
       "        border-radius: 5px;\n",
       "    }\n",
       "    .dg .c .slider:hover {\n",
       "        background: #d6d6d6;\n",
       "    }\n",
       "    .dg .c .slider-fg {\n",
       "        background: #747575;\n",
       "        border-radius: 5px;\n",
       "    }\n",
       "    .dg .c .slider:hover .slider-fg {\n",
       "       background: #42a5f5;\n",
       "    }\n",
       "    .dg li:not(.folder) {\n",
       "        border: 1px solid #cfcfcf;\n",
       "        border-radius: 2px;\n",
       "    }\n",
       "    \n",
       "    </style>\n",
       "    \n",
       "    <script>\n",
       "    \n",
       "    function NewArray(type, base64) {\n",
       "        var binary_string =  window.atob(base64);\n",
       "        var len = binary_string.length;\n",
       "        var bytes = new Uint8Array( len );\n",
       "        for (var i = 0; i < len; i++)        {\n",
       "            bytes[i] = binary_string.charCodeAt(i);\n",
       "        }\n",
       "        return new type(bytes.buffer);\n",
       "    }\n",
       "    \n",
       "        //if ( WEBGL.isWebGLAvailable() === false ) {\n",
       "        //    document.body.appendChild( WEBGL.getWebGLErrorMessage() );\n",
       "        //}\n",
       "    \n",
       "        var renderer, scene, camera, stats, controls;\n",
       "        var objects = [];\n",
       "        var gui;\n",
       "    \n",
       "        factor_mesh = 50.000000;\n",
       "        factor_force = 1.000000;\n",
       "    \n",
       "        var WIDTH = window.innerWidth, HEIGHT = window.innerHeight;\n",
       "    \n",
       "        init();\n",
       "        animate();\n",
       "    \n",
       "        function init() {\n",
       "    \n",
       "            camera = new THREE.PerspectiveCamera( 60, WIDTH / HEIGHT, 1, 200 );\n",
       "            camera.position.z = 150;\n",
       "    \n",
       "            scene = new THREE.Scene();\n",
       "            scene.background = new THREE.Color( 0xFFFFFF);//0x111111 );\n",
       "            scene.fog = new THREE.Fog( 0xFFFFFF, 50, 200);\n",
       "    \n",
       "            renderer = new THREE.WebGLRenderer( { antialias: true } );\n",
       "            renderer.setPixelRatio( window.devicePixelRatio );\n",
       "            renderer.setSize( WIDTH, HEIGHT );\n",
       "    \n",
       "            var container = document.getElementById( \"container\" );\n",
       "            container.appendChild( renderer.domElement );\n",
       "    \n",
       "            //stats = new Stats();\n",
       "            //container.appendChild( stats.dom );\n",
       "    \n",
       "            //\n",
       "            addMesh(NewArray(Float64Array, \"AAAAAAAA4L8AAAAAAADgvwAAAAAAAOC/AAAAAAAA4L8AAAAAAADgPwAAAAAAAOC/AAAAAAAA4D8AAAAAAADgPwAAAAAAAOC/AAAAAAAA4D8AAAAAAADgvwAAAAAAAOC/AAAAAAAA4L8AAAAAAADgvwAAAAAAAOA/AAAAAAAA4D8AAAAAAADgvwAAAAAAAOA/AAAAAAAA4D8AAAAAAADgPwAAAAAAAOA/AAAAAAAA4L8AAAAAAADgPwAAAAAAAOA/\"), NewArray(Int32Array, \"AAAAAAEAAAAAAAAABwAAAAAAAAACAAAAAQAAAAcAAAABAAAAAgAAAAIAAAAHAAAAAAAAAAUAAAAAAAAAAwAAAAIAAAAFAAAAAgAAAAMAAAADAAAABQAAAAAAAAAEAAAABAAAAAUAAAAEAAAABwAAAAUAAAAHAAAAAgAAAAYAAAAFAAAABgAAAAYAAAAHAAAA\"), NewArray(Float64Array, \"lC8z9oA0qT8c7hH/xGCLv7CwgQfCGoy/qbl9Tz05sz/lnGtlA9aJP618g4ZUcIm/r5W5jVc3qb+WmOvFzWKLP2jLQvDlHIy/fIT/KmQ4s7/C8PAGH9aJvzOcBf49aom/wZliQoE4sz8ubPbXKtSJv/rnCstGa4k/gpStZy00qb+2ZEZBl2GLv/8sHFqmG4w/rScH66c4s78lmNygsdKJPybH8LYOcIk/GqyAB581qT844gtTI2GLP9q4NaA+G4w/\"), NewArray(Float64Array, \"XGcM0TtwcD/ye1QQ40oTP10iZBIurxY/2tPelX+qZz/HD4p3lThDvyPs+mjah0M/jMDTRgSxcT+N7ZSwW0oTv4MccvQtthY/BEzuuKRLdj/c3lYOzDdDP85K1jzFhUM/3siLMruqZz//6nN9vzdDP76VzqtUhkO/yS4SoMewcT85PuIPqkgTP78XPK92sBa/FymdbK9Ldj+YJYLTRDdDv0a5apQlh0O/T7bOOyZwcD+9cJZ1u0YTv1NmWYQQtha/\"))\n",
       "            window.addEventListener( \"resize\", onWindowResize, false );\n",
       "    \n",
       "            controls = new THREE.OrbitControls( camera, renderer.domElement );\n",
       "            //controls.minDistance = 10;\n",
       "            //controls.maxDistance = 500;\n",
       "            initGui();\n",
       "    \n",
       "        }\n",
       "    \n",
       "    \n",
       "        function addMesh(points1, lines1, F1, U1) {\n",
       "            points = points1;\n",
       "            lines = lines1;\n",
       "            F = F1;\n",
       "            U = U1;\n",
       "    \n",
       "            for(var i=0; i < points.length; i++) {\n",
       "                points[i] *= factor_mesh;\n",
       "                U[i] *= factor_mesh;\n",
       "            }\n",
       "    \n",
       "            //var h = size * 0.5;\n",
       "    \n",
       "            var geometry = new THREE.BufferGeometry();\n",
       "            var position = [];\n",
       "            //console.log(points.length, tets.length);\n",
       "        \n",
       "            for(var t=0; t < lines1.length/2; t++) {\n",
       "                        var t1 = lines1[t*2+0];\n",
       "                        var t2 = lines1[t*2+1];\n",
       "                        for(var x=0; x < 3; x++)\n",
       "                            position.push(points[t1*3+x]);\n",
       "                        for(var x=0; x < 3; x++)\n",
       "                            position.push(points[t2*3+x]);\n",
       "                //console.log(t);\n",
       "            }\n",
       "            console.log(\"ready\");\n",
       "    \n",
       "            geometry.addAttribute( \"position\", new THREE.Float32BufferAttribute( position, 3 ) );\n",
       "    \n",
       "            //var geometryCube = cube( 50 );\n",
       "    \n",
       "            //var lineSegments = new THREE.LineSegments( geometry, new THREE.LineDashedMaterial( { color: 0xffaa00, dashSize: 3, gapSize: 1 } ) );\n",
       "            mesh_lines = new THREE.LineSegments( geometry, new THREE.LineBasicMaterial( { color: 0xffaa00, linewidth: 0.5, transparent: true, opacity: 0.5} ) );\n",
       "            mesh_lines.computeLineDistances();\n",
       "    \n",
       "            objects.push( mesh_lines );\n",
       "            scene.add( mesh_lines );\n",
       "    \n",
       "            var geometry = new THREE.BufferGeometry();\n",
       "            var position = [];\n",
       "            var force_tips = [];\n",
       "    \n",
       "            for(var i=0; i < U.length/3; i++) {\n",
       "                f_abs = Math.sqrt(F[i*3+0]**2 + F[i*3+1]**2 + F[i*3+2]**2);\n",
       "                factor = factor_force*factor_mesh;//1/f_abs/3000 * f_abs * 100000;\n",
       "                for(var x=0; x < 3; x++)\n",
       "                    position.push((points[i*3+x]));\n",
       "                for(var x=0; x < 3; x++) {\n",
       "                    position.push(points[i * 3 + x] + F[i * 3 + x] * factor);\n",
       "                    force_tips.push(points[i * 3 + x] + F[i * 3 + x] * factor);\n",
       "                }\n",
       "            }\n",
       "    \n",
       "            geometry.addAttribute( \"position\", new THREE.Float32BufferAttribute( position, 3 ) );\n",
       "    \n",
       "            force_mat = new THREE.LineBasicMaterial( { color: 0xaa0000, linewidth: 3,} );\n",
       "            force_lines = new THREE.LineSegments( geometry, force_mat );\n",
       "            force_lines.computeLineDistances();\n",
       "    \n",
       "            objects.push( force_lines );\n",
       "            scene.add( force_lines );\n",
       "    \n",
       "            var sprite = new THREE.TextureLoader().load( \"https://threejs.org/examples/textures/sprites/disc.png\" );\n",
       "    \n",
       "            var geometry = new THREE.BufferGeometry();\n",
       "            geometry.addAttribute( \"position\", new THREE.Float32BufferAttribute( points, 3 ) );\n",
       "            mesh_points = new THREE.Points( geometry, new THREE.PointsMaterial( { size: 8, sizeAttenuation: false, color: 0xffaa00, map: sprite, alphaTest: 0.5, transparent: true } ) );\n",
       "            scene.add( mesh_points );\n",
       "    \n",
       "            var geometry = new THREE.BufferGeometry();\n",
       "            geometry.addAttribute( \"position\", new THREE.Float32BufferAttribute( force_tips, 3 ) );\n",
       "            force_points = new THREE.Points( geometry, new THREE.PointsMaterial( { size: 10, sizeAttenuation: false, color: 0xaa0000, map: sprite, alphaTest: 0.5, transparent: true } ) );\n",
       "            scene.add( force_points );\n",
       "    \n",
       "            // Displacements\n",
       "    \n",
       "            var geometry = new THREE.BufferGeometry();\n",
       "            var position = [];\n",
       "            var displacement_tips = [];\n",
       "    \n",
       "            for(var i=0; i < U.length/3; i++) {\n",
       "                for(var x=0; x < 3; x++)\n",
       "                    position.push((points[i*3+x]));\n",
       "                for(var x=0; x < 3; x++) {\n",
       "                    position.push(points[i * 3 + x] + U[i * 3 + x]);\n",
       "                    displacement_tips.push(points[i * 3 + x] + U[i * 3 + x]);\n",
       "                }\n",
       "            }\n",
       "    \n",
       "            geometry.addAttribute( \"position\", new THREE.Float32BufferAttribute( position, 3 ) );\n",
       "            displacement_mat = new THREE.LineBasicMaterial( { color: 0x00aa00, linewidth: 2,} );\n",
       "            displacement_lines = new THREE.LineSegments( geometry, displacement_mat );\n",
       "            displacement_lines.computeLineDistances();\n",
       "    \n",
       "            objects.push( displacement_lines );\n",
       "            scene.add( displacement_lines );\n",
       "    \n",
       "            var geometry = new THREE.BufferGeometry();\n",
       "            geometry.addAttribute( \"position\", new THREE.Float32BufferAttribute( displacement_tips, 3 ) );\n",
       "            displacement_points = new THREE.Points( geometry, new THREE.PointsMaterial( { size: 10, sizeAttenuation: false, color: 0x00aa00, map: sprite, alphaTest: 0.5, transparent: true } ) );\n",
       "            scene.add( displacement_points );\n",
       "        }\n",
       "    \n",
       "        function onWindowResize() {\n",
       "            camera.aspect = window.innerWidth / window.innerHeight;\n",
       "            camera.updateProjectionMatrix();\n",
       "            renderer.setSize( window.innerWidth, window.innerHeight );\n",
       "        }\n",
       "    \n",
       "        function animate() {\n",
       "            requestAnimationFrame( animate );\n",
       "    \n",
       "            render();\n",
       "            renderer.render( scene, camera );\n",
       "            //stats.update();\n",
       "    \n",
       "        }\n",
       "    \n",
       "        function render() {\n",
       "    \n",
       "            var time = Date.now() * 0.001;\n",
       "    \n",
       "            scene.traverse( function ( object ) {\n",
       "    \n",
       "                //if ( object.isLine ) {\n",
       "    \n",
       "                    //object.rotation.y = 0.25 * time;\n",
       "                    //object.rotation.y = 0.25 * time;\n",
       "    \n",
       "                //}\n",
       "    \n",
       "            } );\n",
       "    \n",
       "            renderer.render( scene, camera );\n",
       "    \n",
       "        }\n",
       "    \n",
       "        function initGui() {\n",
       "            gui = new dat.GUI();\n",
       "            var param = {\n",
       "                \"mesh\": true,\n",
       "                \"forces\": true,\n",
       "                \"force scale\": 1,\n",
       "                \"displacements\": true,\n",
       "                \"view_range\" : 200,\n",
       "            };\n",
       "            gui.add( param, \"mesh\" ).onChange( function ( val ) {\n",
       "                mesh_lines.visible = val;\n",
       "                mesh_points.visible = val;\n",
       "            } );\n",
       "            gui.add( param, \"forces\" ).onChange( function ( val ) {\n",
       "                force_lines.visible = val;\n",
       "                force_points.visible = val;\n",
       "            } );\n",
       "    \n",
       "            gui.add( param, \"force scale\", 1, 8, 0.1 ).onChange( function ( val ) {\n",
       "                var position = [];\n",
       "                var force_tips = [];\n",
       "    \n",
       "                for(var i=0; i < U.length/3; i++) {\n",
       "                    f_abs = Math.sqrt(F[i * 3 + 0] ** 2 + F[i * 3 + 1] ** 2 + F[i * 3 + 2] ** 2);\n",
       "                    factor = factor_force * factor_mesh * val;//1/f_abs/3000 * f_abs * 100000;\n",
       "                    for (var x = 0; x < 3; x++)\n",
       "                        position.push((points[i * 3 + x]));\n",
       "                    for (var x = 0; x < 3; x++) {\n",
       "                        position.push(points[i * 3 + x] + F[i * 3 + x] * factor);\n",
       "                        force_tips.push(points[i * 3 + x] + F[i * 3 + x] * factor);\n",
       "                    }\n",
       "                }\n",
       "                force_lines.geometry.addAttribute( \"position\", new THREE.Float32BufferAttribute( position, 3 ) );\n",
       "                force_points.geometry.addAttribute( \"position\", new THREE.Float32BufferAttribute( force_tips, 3 ) );\n",
       "            } );\n",
       "    \n",
       "            gui.add( param, \"displacements\" ).onChange( function ( val ) {\n",
       "                displacement_lines.visible = val;\n",
       "                displacement_points.visible = val;\n",
       "            } );\n",
       "    \n",
       "            gui.add( param, \"view_range\", 10, 300, 1 ).onChange( function ( val ) {\n",
       "                scene.fog.far = val;\n",
       "            } );\n",
       "        }\n",
       "    \n",
       "    </script>\n",
       "    ' scrolling=no style='border:none; width: 100%; height: 600px'></iframe>"
      ],
      "text/plain": [
       "<IPython.core.display.HTML object>"
      ]
     },
     "metadata": {},
     "output_type": "display_data"
    }
   ],
   "source": [
    "M.viewMesh(50, 1)"
   ]
  }
 ],
 "metadata": {
  "celltoolbar": "Raw Cell Format",
  "kernelspec": {
   "display_name": "Python 3",
   "language": "python",
   "name": "python3"
  },
  "language_info": {
   "codemirror_mode": {
    "name": "ipython",
    "version": 3
   },
   "file_extension": ".py",
   "mimetype": "text/x-python",
   "name": "python",
   "nbconvert_exporter": "python",
   "pygments_lexer": "ipython3",
   "version": "3.6.4"
  },
  "pycharm": {
   "stem_cell": {
    "cell_type": "raw",
    "metadata": {
     "collapsed": false
    },
    "source": []
   }
  }
 },
 "nbformat": 4,
 "nbformat_minor": 1
}
